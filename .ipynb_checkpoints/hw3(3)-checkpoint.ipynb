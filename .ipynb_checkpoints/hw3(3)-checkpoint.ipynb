{
  "nbformat": 4,
  "nbformat_minor": 0,
  "metadata": {
    "kernelspec": {
      "display_name": "Python 3",
      "language": "python",
      "name": "python3"
    },
    "language_info": {
      "codemirror_mode": {
        "name": "ipython",
        "version": 3
      },
      "file_extension": ".py",
      "mimetype": "text/x-python",
      "name": "python",
      "nbconvert_exporter": "python",
      "pygments_lexer": "ipython3",
      "version": "3.8.2"
    },
    "colab": {
      "name": "hw3.ipynb",
      "provenance": [],
      "collapsed_sections": []
    },
    "accelerator": "GPU"
  },
  "cells": [
    {
      "cell_type": "markdown",
      "metadata": {
        "id": "MTXwDbAiD8Pg",
        "colab_type": "text"
      },
      "source": [
        "# Homework 3"
      ]
    },
    {
      "cell_type": "markdown",
      "metadata": {
        "id": "YGeGus2AD8Pi",
        "colab_type": "text"
      },
      "source": [
        "Домашние задания являются полностью опциональными, оценки никуда не идут.\n",
        "\n",
        "### Дедлайн: 21.06.20 (вс) 21:00 мск\n",
        "\n",
        "### Формат сдачи\n",
        "\n",
        "__Вариант 1__: этот ipynb файл с кодом\n",
        "\n",
        "дополнительно добавьте:\n",
        "* \"checkpoint\" файл из `torch.save(model.state_dict(), ...)` который содержит веса модели для задачи 1, 3 и поможет удостовериться в точности на валидации\n",
        "* имеется возможность перезапустить весь ipynb файл, чтобы убедиться в финальном результате, например в 1й и 3й задаче (можете сделать конструкцию if else, н: если файл с весами присутствует, тогда показываем точность, иначе запускаем training рутину и выводим в конце точность)\n",
        "\n",
        "__Вариант 2__:\n",
        "сдаёте в виде набора .py скриптов (н. train.py, test.py, ...) на каждое задание с инструкцией как запустить и убедиться в полученных вами результатах"
      ]
    },
    {
      "cell_type": "markdown",
      "metadata": {
        "id": "DD2S-ByaD8Pm",
        "colab_type": "text"
      },
      "source": [
        "# Задача 1 - Train your own model (6 баллов)"
      ]
    },
    {
      "cell_type": "markdown",
      "metadata": {
        "id": "JGMBrC-WD8Pn",
        "colab_type": "text"
      },
      "source": [
        "В этом задании вы построете сверточную нейросеть (CNN) для решения Tiny ImageNet классификации. Постарайтесь добиться максимальной точности на валидации.\n",
        "\n",
        "### Оценивание\n",
        "\n",
        "* За преодоление каждого порога даётся 1 балл\n",
        "  * 25.0%\n",
        "  * 30.0%\n",
        "  * 32.5%\n",
        "  * 35.0%\n",
        "  * 37.5%\n",
        "  * 40.0%\n",
        "    \n",
        "### Ограничения\n",
        "\n",
        "* __Нельзя использовать предобученные нейросети.__ Сами архитектуры использовать можно.\n",
        "\n",
        "### Советы\n",
        "\n",
        "* Одно изменение в один момент времени\n",
        "* Используйте GPU, постарайтесь написать device-agnostic код, чтобы нигде не присутствовало `.cuda()`, а было `.to(device)`\n",
        "* Логируйте промежуточный результаты, например в TensorBoard\n",
        "* С чем можно поиграться: optimizer, lr scheduler, архитектура, инициализации, loss, регуляризации (dropout, cutmix, weight decay, аугментации и тд), и кучу всего разного\n",
        "* Про \"фишечки\", которые можно внедрить для улучшения качества, можно посмотреть здесь https://arxiv.org/abs/1812.01187\n",
        "* Постарайтесь по максимуму переиспользовать написанный код, то есть реализовать в виде набора функций например тренировочную рутину и ее использовать в задаче 1, 2, 4\n",
        "* Как обычно: читабельный, понятный код приветствуется\n",
        "\n",
        "### Какую архитектуру выбрать для обучения?\n",
        "* пишем сами\n",
        "* берём готовую архитектуру (например отсюда https://github.com/rwightman/pytorch-image-models (очень классный ресурс с модными архитектурами) или отсюда https://pytorch.org/docs/stable/torchvision/models.html)"
      ]
    },
    {
      "cell_type": "markdown",
      "metadata": {
        "id": "gHgRM6Ej2wHg",
        "colab_type": "text"
      },
      "source": [
        "#### 1. Импортируем \n",
        "* датасеты \n",
        "* функции для обучения\n",
        "* модель\n",
        "\n",
        "#### 2. Обучаем\n",
        "#### 3. Смотрим на качество\n"
      ]
    },
    {
      "cell_type": "code",
      "metadata": {
        "id": "n05exmRND8Pq",
        "colab_type": "code",
        "colab": {}
      },
      "source": [
        "import numpy as np\n",
        "import matplotlib.pyplot as plt\n",
        "%matplotlib inline"
      ],
      "execution_count": 6,
      "outputs": []
    },
    {
      "cell_type": "code",
      "metadata": {
        "id": "1pCy42OED8P5",
        "colab_type": "code",
        "colab": {
          "base_uri": "https://localhost:8080/",
          "height": 34
        },
        "outputId": "9d3591be-0a16-4865-d4b7-bcc4b5fae707"
      },
      "source": [
        "import tiny_imagenet\n",
        "tiny_imagenet.download(\".\")"
      ],
      "execution_count": null,
      "outputs": [
        {
          "output_type": "stream",
          "text": [
            "./tiny-imagenet-200 already exists, not downloading\n"
          ],
          "name": "stdout"
        }
      ]
    },
    {
      "cell_type": "code",
      "metadata": {
        "id": "rhZpvRopESiI",
        "colab_type": "code",
        "colab": {}
      },
      "source": [
        "import os\n",
        "import torch\n",
        "import torch.nn as nn\n",
        "import torchvision\n",
        "import torchvision.transforms as transforms\n",
        "import torchvision.datasets as datasets\n",
        "\n",
        "\n",
        "data_transforms = {\n",
        "    'train': transforms.Compose([\n",
        "        transforms.RandomHorizontalFlip(),\n",
        "        transforms.ToTensor(),\n",
        "        transforms.Normalize([0.485, 0.456, 0.406], [0.229, 0.224, 0.225])\n",
        "    ]),\n",
        "    'val': transforms.Compose([\n",
        "        transforms.ToTensor(),\n",
        "        transforms.Normalize([0.485, 0.456, 0.406], [0.229, 0.224, 0.225])\n",
        "    ]),\n",
        "}\n",
        "\n",
        "data_dir = 'tiny-imagenet-200'\n",
        "\n",
        "image_datasets = {x: datasets.ImageFolder(os.path.join(data_dir, x),\n",
        "                                          data_transforms[x])\n",
        "                  for x in ['train', 'val']}\n",
        "dataloaders = {x: torch.utils.data.DataLoader(image_datasets[x], batch_size=512,\n",
        "                                             shuffle=True, num_workers=64)\n",
        "              for x in ['train', 'val']}\n",
        "dataset_sizes = {x: len(image_datasets[x]) for x in ['train', 'val']}"
      ],
      "execution_count": null,
      "outputs": []
    },
    {
      "cell_type": "code",
      "metadata": {
        "id": "NaHDZvW6Et9B",
        "colab_type": "code",
        "colab": {
          "base_uri": "https://localhost:8080/",
          "height": 34
        },
        "outputId": "50c9d8ce-50e4-4574-82e4-9c4dd728139b"
      },
      "source": [
        "import torch.optim as optim\n",
        "from looper import LooperCls\n",
        "from loveNet import LoveNet\n",
        "device = torch.device(\"cuda\")\n",
        "\n",
        "looper = LooperCls(device)\n",
        "model = LoveNet(c_in=3, n_classes=200, num_blocks=15, use_mid_predictor=True, c_mid=256, groups=4)\n",
        "print('Num Model Parameters', sum([param.nelement() for param in model.parameters()]))"
      ],
      "execution_count": null,
      "outputs": [
        {
          "output_type": "stream",
          "text": [
            "Num Model Parameters 5511864\n"
          ],
          "name": "stdout"
        }
      ]
    },
    {
      "cell_type": "code",
      "metadata": {
        "id": "TBLpzGw7KI8G",
        "colab_type": "code",
        "colab": {}
      },
      "source": [
        "def plot(hist):\n",
        "    f, ax = plt.subplots(1,2, figsize=(10,5))\n",
        "    ax[0].plot(range(len(hist['loss'])),hist['loss'])\n",
        "    ax[0].set_title('loss')\n",
        "    ax[1].plot(range(len(hist['accuracy'])),hist['accuracy'])\n",
        "    ax[1].set_title('accuracy')"
      ],
      "execution_count": 4,
      "outputs": []
    },
    {
      "cell_type": "code",
      "metadata": {
        "id": "rM4Wf_sLEHzO",
        "colab_type": "code",
        "colab": {}
      },
      "source": [
        "criterion = nn.CrossEntropyLoss()\n",
        "optimizer = optim.Adam(model.parameters(),lr=0.0001)\n",
        "\n",
        "def accuracy(out, labels):\n",
        "    b = out.shape[0]\n",
        "    hard_preds = torch.max(out, dim=1)[1]\n",
        "    match = (hard_preds==labels).sum().item()\n",
        "    return match/b\n",
        "\n",
        "\n",
        "\n",
        "looper.train(model, \n",
        "             25,\n",
        "             dataloaders['train'],\n",
        "             dataloaders['val'],\n",
        "             optimizer,\n",
        "             criterion,\n",
        "             [accuracy])"
      ],
      "execution_count": null,
      "outputs": []
    },
    {
      "cell_type": "code",
      "metadata": {
        "id": "VlRVWT8Xszj2",
        "colab_type": "code",
        "colab": {
          "base_uri": "https://localhost:8080/",
          "height": 336
        },
        "outputId": "2aef79a1-dbe3-4c51-c1b3-3754d76eafb1"
      },
      "source": [
        "plot(looper.history())"
      ],
      "execution_count": null,
      "outputs": [
        {
          "output_type": "display_data",
          "data": {
            "image/png": "[encoded data removed]",
            "text/plain": [
              "<Figure size 720x360 with 2 Axes>"
            ]
          },
          "metadata": {
            "tags": [],
            "needs_background": "light"
          }
        }
      ]
    },
    {
      "cell_type": "markdown",
      "metadata": {
        "id": "ICpk0m71D8QC",
        "colab_type": "text"
      },
      "source": [
        "Тренировочные и валидационные данные лежат в `tiny-imagenet-200/train` и `tiny-imagenet-200/val`."
      ]
    },
    {
      "cell_type": "markdown",
      "metadata": {
        "id": "Aq5MR1aiD8QL",
        "colab_type": "text"
      },
      "source": [
        "Когда закончите обучение, сделайте отдельно инференс на валидации и выведите ниже результат."
      ]
    },
    {
      "cell_type": "code",
      "metadata": {
        "id": "oz2_LJaQH5zW",
        "colab_type": "code",
        "colab": {
          "base_uri": "https://localhost:8080/",
          "height": 34
        },
        "outputId": "43fe260e-ec69-4b75-b05a-fa480af07300"
      },
      "source": [
        "looper.logger.reset_all()\n",
        "looper.val_step(model,[accuracy], dataloaders['val'])"
      ],
      "execution_count": null,
      "outputs": [
        {
          "output_type": "execute_result",
          "data": {
            "text/plain": [
              "19"
            ]
          },
          "metadata": {
            "tags": []
          },
          "execution_count": 10
        }
      ]
    },
    {
      "cell_type": "code",
      "metadata": {
        "id": "35Cf5dj1D8QN",
        "colab_type": "code",
        "colab": {
          "base_uri": "https://localhost:8080/",
          "height": 34
        },
        "outputId": "c431812f-8c35-4b73-a932-569476cfa734"
      },
      "source": [
        "score  =  looper.logger.avg('accuracy')\n",
        "print(\"Validation accuracy: %.2f%%\" % (score * 100))"
      ],
      "execution_count": null,
      "outputs": [
        {
          "output_type": "stream",
          "text": [
            "Validation accuracy: 27.24%\n"
          ],
          "name": "stdout"
        }
      ]
    },
    {
      "cell_type": "markdown",
      "metadata": {
        "id": "sSF0u029D8QX",
        "colab_type": "text"
      },
      "source": [
        "# Отчет:\n",
        "Добавление Group Convolutions в моделе в размере 4х очень сильно замедлело скорость обучения, примерно в 5ть раз.  ( Иниференс не проверял.) Но при этом почти в три раза уменьшило число параметров с 17 Млн до 5.5 Млн. При этом качество на 25 эпохах сохранилось примерно тоже. "
      ]
    },
    {
      "cell_type": "markdown",
      "metadata": {
        "id": "KBVpcmm_D8QZ",
        "colab_type": "text"
      },
      "source": [
        "# Задача 2 - Transfer Learning (1 балл)\n",
        "\n",
        "Выберите любую предобученную модель. Сделайте transfer learning для датасета из задачи 1. Постарайтесь по-максимуму воспользоваться кодом из задачи 1, чтобы не дублировать его. Выведите точность на валидации."
      ]
    },
    {
      "cell_type": "code",
      "metadata": {
        "id": "iVRYtjQYD8Qa",
        "colab_type": "code",
        "colab": {}
      },
      "source": [
        ""
      ],
      "execution_count": null,
      "outputs": []
    },
    {
      "cell_type": "markdown",
      "metadata": {
        "id": "zeOSgihRD8Qi",
        "colab_type": "text"
      },
      "source": [
        "# Задача 3 - Grouped Convolutions (2 балла)\n",
        "\n",
        "Задача на понимание групповых сверток.\n",
        "\n",
        "Стандартный вариант указать параметр __groups__  у `nn.Conv2d` и вызвать стандартный forward.\n",
        "\n",
        "Попробуйте написать `forward` сами, воспользовавшись `torch.nn.functional.conv2d()` с одним ограничением, что параметр __groups__ в `torch.nn.functional.conv2d()` передавать нельзя.\n",
        "\n",
        "Для решения советую циклом пройтись по `range(out_channels)` возможно с ненулевым шагом."
      ]
    },
    {
      "cell_type": "code",
      "metadata": {
        "id": "nhqmPC4hD8Qj",
        "colab_type": "code",
        "colab": {}
      },
      "source": [
        "import torch\n",
        "import torch.nn as nn\n",
        "import torch.nn.functional as F\n",
        "\n",
        "def custom_forward(conv, x):\n",
        "    g = 2\n",
        "    split = conv.weight.shape[0] // g\n",
        "    bias = conv.bias\n",
        "    filter_1 = conv.weight[:split]\n",
        "    filter_2 = conv.weight[split:]\n",
        "    c = x.shape[1] \n",
        "    #print(c)    \n",
        "    x1 = F.conv2d(x[:,:c//g], filter_1, padding=1, bias=bias[:split])\n",
        "    x2 = F.conv2d(x[:,c//g:], filter_2, padding=1, bias=bias[split:])\n",
        "    #print(x1.shape, x2.shape) \n",
        "    return  torch.cat((x1,x2), dim=1)\n",
        "\n",
        "conv = nn.Conv2d(in_channels=8, out_channels=32, kernel_size=3, groups=2, padding=1)\n",
        "x = torch.rand(1, 8, 16, 16)\n",
        "assert torch.allclose(conv(x), custom_forward(conv, x), atol=1e-07)"
      ],
      "execution_count": null,
      "outputs": []
    },
    {
      "cell_type": "markdown",
      "metadata": {
        "id": "6FtIJgLLD8Qo",
        "colab_type": "text"
      },
      "source": [
        "# Задача 4 - Self-supervised learning (много баллов)"
      ]
    },
    {
      "cell_type": "markdown",
      "metadata": {
        "id": "3JaLKqVND8Qq",
        "colab_type": "text"
      },
      "source": [
        "Если вы дошли до задачи 4 и у вас еще много сил, энергии и времени, то вот вам настоящий challenge:\n",
        "\n",
        "Прочитайте статью про FixMatch https://arxiv.org/abs/2001.07685\n",
        "\n",
        "Вам предлагается в каком-либо виде воспользоваться предлагаемым в статье новым loss-ом применимо к задаче 1. А именно: в статье предлагается вариант того, как эффективно воспользоваться неразмеченными данными для улучшения качества модели.\n",
        "Если у вас написан хороший код для задачи 1, то не должно вызвать больших трудностей добавить упомянутый подход.\n",
        "Смотреть / использовать готовые какие-то реализации разрешается, главное вы должны понимать код, которым воспользовались.\n",
        "\n",
        "Пара советов:\n",
        "* скорей всего в одной из лекций мы покроем как писать свой вариант кастомный класс для загрузки данных, но вы можете сейчас попробовать погуглить (pytorch custom dataset) - он вам скорей всего понадобится, чтобы грузить одновременно размеченные и неразмеченные данные в 1 батче\n",
        "* неразмеченные данные можно взять из любого другого датасета, например cifar-100 либо же для начала можно просто имеющиеся train данные поделить на две части и забыть про существование таргетов на одной из частей\n",
        "* воспользуйтесь той же самой моделью и теми же самыми параметрами оптимизатора и т.д какие вы выбрали в 1й задаче\n",
        "* сильные и слабые аугментации (см. статью) можете сделать внутри вашего кастомного класса с датасетом (т.е. агументировать данные до отправки на gpu) либо делать их уже после загрузки батча из dataloader (желательно на гпу). Во втором варианте советую воспользоваться https://kornia.readthedocs.io/en/latest/augmentation.html\n",
        "* аугментации можете для дз сделать любые свои в качестве слабых и сильных, но на будущее старайтесь реимплемнтировать разные походы из статей как можно более похожим образом для начала, если еще нет интуиции как поменять что-то под вашу задачу, чтобы в случае если вы встраивате метод в какой-то пайплайн и у вас в итоге плохое качество, знать что в этом месте например проблемы нет, значит надо искать в другом месте"
      ]
    },
    {
      "cell_type": "markdown",
      "metadata": {
        "id": "3j92oVTn1tEE",
        "colab_type": "text"
      },
      "source": [
        "## Проверим что все работет на CIFAR 10 и посмотрим на качество"
      ]
    },
    {
      "cell_type": "code",
      "metadata": {
        "id": "kYdJKfc_D8Qq",
        "colab_type": "code",
        "colab": {
          "base_uri": "https://localhost:8080/",
          "height": 52
        },
        "outputId": "7b916052-18af-4927-c239-be1c76ef55ad"
      },
      "source": [
        "import os\n",
        "import torch\n",
        "import torch.nn as nn\n",
        "import torchvision\n",
        "import torchvision.transforms as transforms\n",
        "import torchvision.datasets as datasets\n",
        "\n",
        "\n",
        "transform = transforms.Compose(\n",
        "    [transforms.ToTensor(),\n",
        "     transforms.Normalize([0.485, 0.456, 0.406], [0.229, 0.224, 0.225])])\n",
        "\n",
        "trainset = torchvision.datasets.CIFAR10(root='./data', train=True,\n",
        "                                        download=True, transform=transform)\n",
        "trainloader = torch.utils.data.DataLoader(trainset, batch_size=256,\n",
        "                                          shuffle=False, num_workers=2)\n",
        "\n",
        "testset = torchvision.datasets.CIFAR10(root='./data', train=False,\n",
        "                                       download=True, transform=transform)\n",
        "testloader = torch.utils.data.DataLoader(testset, batch_size=256,\n",
        "                                         shuffle=False, num_workers=2)"
      ],
      "execution_count": 1,
      "outputs": [
        {
          "output_type": "stream",
          "text": [
            "Files already downloaded and verified\n",
            "Files already downloaded and verified\n"
          ],
          "name": "stdout"
        }
      ]
    },
    {
      "cell_type": "code",
      "metadata": {
        "id": "SpxZi4RS1FSM",
        "colab_type": "code",
        "colab": {
          "base_uri": "https://localhost:8080/",
          "height": 34
        },
        "outputId": "2df6bbd4-9c13-4f16-ed65-985315e80de7"
      },
      "source": [
        "import torch.optim as optim\n",
        "from looper import LooperCls\n",
        "from loveNet import LoveNet\n",
        "device = torch.device(\"cuda\")\n",
        "\n",
        "looper = LooperCls(device)\n",
        "model = LoveNet(c_in=3, n_classes=10, num_blocks=10, use_mid_predictor=True, c_mid=128, groups=1)\n",
        "print('Num Model Parameters', sum([param.nelement() for param in model.parameters()]))"
      ],
      "execution_count": 2,
      "outputs": [
        {
          "output_type": "stream",
          "text": [
            "Num Model Parameters 2823140\n"
          ],
          "name": "stdout"
        }
      ]
    },
    {
      "cell_type": "code",
      "metadata": {
        "id": "nZoc5rIK1kvL",
        "colab_type": "code",
        "colab": {}
      },
      "source": [
        "criterion = nn.CrossEntropyLoss()\n",
        "optimizer = optim.Adam(model.parameters(),lr=0.001)\n",
        "\n",
        "def accuracy(out, labels):\n",
        "    b = out.shape[0]\n",
        "    hard_preds = torch.max(out, dim=1)[1]\n",
        "    match = (hard_preds==labels).sum().item()\n",
        "    return match/b\n",
        "\n",
        "looper.train(model, \n",
        "             10,\n",
        "             trainloader,\n",
        "             testloader,\n",
        "             optimizer,\n",
        "             criterion,\n",
        "             [accuracy])"
      ],
      "execution_count": null,
      "outputs": []
    },
    {
      "cell_type": "code",
      "metadata": {
        "id": "lSU6UK8e9EEK",
        "colab_type": "code",
        "colab": {
          "base_uri": "https://localhost:8080/",
          "height": 336
        },
        "outputId": "0e7266bc-d117-446a-aae4-8e957aa76f97"
      },
      "source": [
        "def plot(hist):\n",
        "    f, ax = plt.subplots(1,2, figsize=(10,5))\n",
        "    ax[0].plot(range(len(hist['loss'])),hist['loss'])\n",
        "    ax[0].set_title('loss')\n",
        "    ax[1].plot(range(len(hist['accuracy'])),hist['accuracy'])\n",
        "    ax[1].set_title('accuracy')\n",
        "\n",
        "plot(looper.history())"
      ],
      "execution_count": 7,
      "outputs": [
        {
          "output_type": "display_data",
          "data": {
            "image/png": "[encoded data removed]",
            "text/plain": [
              "<Figure size 720x360 with 2 Axes>"
            ]
          },
          "metadata": {
            "tags": [],
            "needs_background": "light"
          }
        }
      ]
    },
    {
      "cell_type": "markdown",
      "metadata": {
        "id": "jYfQUyNU4Lxc",
        "colab_type": "text"
      },
      "source": [
        "Сеть сходится, теперь попробуем добиться близкого качесва с semi superised."
      ]
    },
    {
      "cell_type": "code",
      "metadata": {
        "id": "yLff54Bb3pcM",
        "colab_type": "code",
        "colab": {}
      },
      "source": [
        "import random\n",
        "import numpy as np\n",
        "from data_pipe import LoaderWithTransforms\n",
        "\n",
        "train_data = trainset.data\n",
        "train_labels = np.array(trainset.targets)"
      ],
      "execution_count": 3,
      "outputs": []
    },
    {
      "cell_type": "markdown",
      "metadata": {
        "id": "RuQfUNNgbjiU",
        "colab_type": "text"
      },
      "source": [
        ""
      ]
    },
    {
      "cell_type": "code",
      "metadata": {
        "id": "ezFqgT372nQj",
        "colab_type": "code",
        "colab": {
          "base_uri": "https://localhost:8080/",
          "height": 208
        },
        "outputId": "843d99b9-cf2c-4d12-fd19-b1d18ccf7989"
      },
      "source": [
        "train_labels = np.array(trainset.targets)\n",
        "train_labels = np.where(np.random.uniform(size=(len(train_labels)))<0.95, 777,train_labels)\n",
        "\n",
        "{n:sum(train_labels==n) for n in np.unique(train_labels)}"
      ],
      "execution_count": 4,
      "outputs": [
        {
          "output_type": "execute_result",
          "data": {
            "text/plain": [
              "{0: 273,\n",
              " 1: 250,\n",
              " 2: 238,\n",
              " 3: 259,\n",
              " 4: 241,\n",
              " 5: 248,\n",
              " 6: 253,\n",
              " 7: 237,\n",
              " 8: 232,\n",
              " 9: 252,\n",
              " 777: 47517}"
            ]
          },
          "metadata": {
            "tags": []
          },
          "execution_count": 4
        }
      ]
    },
    {
      "cell_type": "code",
      "metadata": {
        "id": "Az1ft8P4A-Pz",
        "colab_type": "code",
        "colab": {}
      },
      "source": [
        "trainset = LoaderWithTransforms((train_data, train_labels))\n",
        "trainloader = torch.utils.data.DataLoader(trainset, batch_size=128,\n",
        "                                          shuffle=True, num_workers=2)"
      ],
      "execution_count": 7,
      "outputs": []
    },
    {
      "cell_type": "code",
      "metadata": {
        "id": "RVClnS2IbV1v",
        "colab_type": "code",
        "colab": {
          "base_uri": "https://localhost:8080/",
          "height": 34
        },
        "outputId": "5c143759-e376-4574-cc68-9c10406447d6"
      },
      "source": [
        "batch = next(iter(trainloader))\n",
        "batch[1].shape"
      ],
      "execution_count": 6,
      "outputs": [
        {
          "output_type": "execute_result",
          "data": {
            "text/plain": [
              "torch.Size([256, 3, 25, 25])"
            ]
          },
          "metadata": {
            "tags": []
          },
          "execution_count": 6
        }
      ]
    },
    {
      "cell_type": "code",
      "metadata": {
        "id": "ei6WO98bFmfz",
        "colab_type": "code",
        "colab": {
          "base_uri": "https://localhost:8080/",
          "height": 34
        },
        "outputId": "ffc17701-be93-4ca9-f731-e1c13f4d982a"
      },
      "source": [
        "criterion = nn.CrossEntropyLoss(reduction='none')\n",
        "optimizer = optim.SGD(model.parameters(),lr=0.001)\n",
        "\n",
        "def accuracy(out, labels):\n",
        "    b = out.shape[0]\n",
        "    hard_preds = torch.max(out, dim=1)[1]\n",
        "    match = (hard_preds==labels).sum().item()\n",
        "    return match/b\n",
        "\n",
        "looper.train(model, \n",
        "             100,\n",
        "             trainloader,\n",
        "             testloader,\n",
        "             optimizer,\n",
        "             criterion,\n",
        "             [accuracy],\n",
        "             semi_self=True,\n",
        "             th=0.7)"
      ],
      "execution_count": 8,
      "outputs": [
        {
          "output_type": "stream",
          "text": [
            "100%|██████████| 100/100 [1:17:12<00:00, 45.42s/it, loss=0.144, num_labels=44.9, accuracy=0.205]"
          ],
          "name": "stderr"
        }
      ]
    },
    {
      "cell_type": "code",
      "metadata": {
        "id": "jxyZ3notBd4r",
        "colab_type": "code",
        "colab": {}
      },
      "source": [
        ""
      ],
      "execution_count": null,
      "outputs": []
    },
    {
      "cell_type": "code",
      "metadata": {
        "id": "kFDTirrf9S5s",
        "colab_type": "code",
        "colab": {
          "base_uri": "https://localhost:8080/",
          "height": 336
        },
        "outputId": "a3c391b3-3abc-4480-d41e-855fb1f593df"
      },
      "source": [
        "import matplotlib.pyplot as plt\n",
        "\n",
        "\n",
        "def plot(hist):\n",
        "    f, ax = plt.subplots(1,3, figsize=(10,5))\n",
        "    ax[0].plot(range(len(hist['loss'])),hist['loss'])\n",
        "    ax[0].set_title('loss')\n",
        "    ax[1].plot(range(len(hist['accuracy'])),hist['accuracy'])\n",
        "    ax[1].set_title('accuracy')\n",
        "    ax[2].plot(range(len(hist['num_labels'])),hist['num_labels'])\n",
        "    ax[2].set_title('num_labels')\n",
        "\n",
        "plot(looper.history())"
      ],
      "execution_count": 10,
      "outputs": [
        {
          "output_type": "display_data",
          "data": {
            "image/png": "[encoded data removed]",
            "text/plain": [
              "<Figure size 720x360 with 3 Axes>"
            ]
          },
          "metadata": {
            "tags": [],
            "needs_background": "light"
          }
        }
      ]
    },
    {
      "cell_type": "markdown",
      "metadata": {
        "id": "I_JFHdlgD5gz",
        "colab_type": "text"
      },
      "source": [
        "num_labels - это число псевдо лейблов выше порога +  true лейблов, интересно что оно сначало подскакивает, а потом постепенно уменьшается.\n"
      ]
    },
    {
      "cell_type": "markdown",
      "metadata": {
        "id": "c-IGeHUfBSdV",
        "colab_type": "text"
      },
      "source": [
        "### Попытка дообучить модель с другими параметрами."
      ]
    },
    {
      "cell_type": "code",
      "metadata": {
        "id": "uZHA4WrjArk2",
        "colab_type": "code",
        "colab": {
          "base_uri": "https://localhost:8080/",
          "height": 1000
        },
        "outputId": "0eb449b1-a781-4f04-f9f3-93f655b5aa11"
      },
      "source": [
        "criterion = nn.CrossEntropyLoss(reduction='none')\n",
        "optimizer = optim.Adam(model.parameters(),lr=0.0001)\n",
        "\n",
        "looper.train(model, \n",
        "             50,\n",
        "             trainloader,\n",
        "             testloader,\n",
        "             optimizer,\n",
        "             criterion,\n",
        "             [accuracy],\n",
        "             semi_self=True,\n",
        "             th=0.9)"
      ],
      "execution_count": null,
      "outputs": [
        {
          "output_type": "stream",
          "text": [
            "\n",
            "  0%|          | 0/50 [00:00<?, ?it/s]\u001b[A\n",
            "  0%|          | 0/50 [00:49<?, ?it/s, loss=0.0814, num_labels=4.62, accuracy=0.209]\u001b[A\n",
            "  2%|▏         | 1/50 [00:49<40:14, 49.27s/it, loss=0.0814, num_labels=4.62, accuracy=0.209]\u001b[A\n",
            "  2%|▏         | 1/50 [01:39<40:14, 49.27s/it, loss=0.112, num_labels=10.8, accuracy=0.21]  \u001b[A\n",
            "  4%|▍         | 2/50 [01:39<39:34, 49.48s/it, loss=0.112, num_labels=10.8, accuracy=0.21]\u001b[A\n",
            "  4%|▍         | 2/50 [02:28<39:34, 49.48s/it, loss=0.0854, num_labels=5.25, accuracy=0.213]\u001b[A\n",
            "  6%|▌         | 3/50 [02:28<38:41, 49.40s/it, loss=0.0854, num_labels=5.25, accuracy=0.213]\u001b[A\n",
            "  6%|▌         | 3/50 [03:17<38:41, 49.40s/it, loss=0.0865, num_labels=4.88, accuracy=0.187]\u001b[A\n",
            "  8%|▊         | 4/50 [03:17<37:53, 49.42s/it, loss=0.0865, num_labels=4.88, accuracy=0.187]\u001b[A\n",
            "  8%|▊         | 4/50 [04:07<37:53, 49.42s/it, loss=0.0879, num_labels=5.12, accuracy=0.186]\u001b[A\n",
            " 10%|█         | 5/50 [04:07<37:05, 49.46s/it, loss=0.0879, num_labels=5.12, accuracy=0.186]\u001b[A\n",
            " 10%|█         | 5/50 [04:55<37:05, 49.46s/it, loss=0.0861, num_labels=5, accuracy=0.197]   \u001b[A\n",
            " 12%|█▏        | 6/50 [04:55<36:01, 49.13s/it, loss=0.0861, num_labels=5, accuracy=0.197]\u001b[A\n",
            " 12%|█▏        | 6/50 [05:44<36:01, 49.13s/it, loss=0.238, num_labels=53.9, accuracy=0.23]\u001b[A\n",
            " 14%|█▍        | 7/50 [05:44<35:12, 49.14s/it, loss=0.238, num_labels=53.9, accuracy=0.23]\u001b[A\n",
            " 14%|█▍        | 7/50 [06:34<35:12, 49.14s/it, loss=0.282, num_labels=61.1, accuracy=0.185]\u001b[A\n",
            " 16%|█▌        | 8/50 [06:34<34:25, 49.17s/it, loss=0.282, num_labels=61.1, accuracy=0.185]\u001b[A\n",
            " 16%|█▌        | 8/50 [07:24<34:25, 49.17s/it, loss=0.214, num_labels=45.7, accuracy=0.194]\u001b[A\n",
            " 18%|█▊        | 9/50 [07:24<33:47, 49.46s/it, loss=0.214, num_labels=45.7, accuracy=0.194]\u001b[A\n",
            " 18%|█▊        | 9/50 [08:14<33:47, 49.46s/it, loss=0.155, num_labels=23.9, accuracy=0.203]\u001b[A\n",
            " 20%|██        | 10/50 [08:14<33:12, 49.80s/it, loss=0.155, num_labels=23.9, accuracy=0.203]\u001b[A\n",
            " 20%|██        | 10/50 [09:05<33:12, 49.80s/it, loss=0.151, num_labels=26.7, accuracy=0.185]\u001b[A\n",
            " 22%|██▏       | 11/50 [09:05<32:27, 49.93s/it, loss=0.151, num_labels=26.7, accuracy=0.185]\u001b[A\n",
            " 22%|██▏       | 11/50 [09:55<32:27, 49.93s/it, loss=0.38, num_labels=116, accuracy=0.201]  \u001b[A\n",
            " 24%|██▍       | 12/50 [09:55<31:38, 49.95s/it, loss=0.38, num_labels=116, accuracy=0.201]\u001b[A\n",
            " 24%|██▍       | 12/50 [10:44<31:38, 49.95s/it, loss=0.359, num_labels=115, accuracy=0.13]\u001b[A\n",
            " 26%|██▌       | 13/50 [10:44<30:42, 49.79s/it, loss=0.359, num_labels=115, accuracy=0.13]\u001b[A\n",
            " 26%|██▌       | 13/50 [11:34<30:42, 49.79s/it, loss=0.391, num_labels=114, accuracy=0.131]\u001b[A\n",
            " 28%|██▊       | 14/50 [11:34<29:56, 49.91s/it, loss=0.391, num_labels=114, accuracy=0.131]\u001b[A\n",
            " 28%|██▊       | 14/50 [12:24<29:56, 49.91s/it, loss=0.35, num_labels=113, accuracy=0.132] \u001b[A\n",
            " 30%|███       | 15/50 [12:24<29:08, 49.95s/it, loss=0.35, num_labels=113, accuracy=0.132]\u001b[A\n",
            " 30%|███       | 15/50 [13:14<29:08, 49.95s/it, loss=0.331, num_labels=116, accuracy=0.131]\u001b[A\n",
            " 32%|███▏      | 16/50 [13:14<28:18, 49.94s/it, loss=0.331, num_labels=116, accuracy=0.131]\u001b[A\n",
            " 32%|███▏      | 16/50 [14:05<28:18, 49.94s/it, loss=0.366, num_labels=112, accuracy=0.13] \u001b[A\n",
            " 34%|███▍      | 17/50 [14:05<27:31, 50.04s/it, loss=0.366, num_labels=112, accuracy=0.13]\u001b[A\n",
            " 34%|███▍      | 17/50 [14:55<27:31, 50.04s/it, loss=0.385, num_labels=114, accuracy=0.131]\u001b[A\n",
            " 36%|███▌      | 18/50 [14:55<26:47, 50.24s/it, loss=0.385, num_labels=114, accuracy=0.131]\u001b[A\n",
            " 36%|███▌      | 18/50 [15:47<26:47, 50.24s/it, loss=0.383, num_labels=113, accuracy=0.131]\u001b[A\n",
            " 38%|███▊      | 19/50 [15:47<26:13, 50.76s/it, loss=0.383, num_labels=113, accuracy=0.131]\u001b[A\n",
            " 38%|███▊      | 19/50 [16:37<26:13, 50.76s/it, loss=0.355, num_labels=113, accuracy=0.132]\u001b[A\n",
            " 40%|████      | 20/50 [16:37<25:14, 50.50s/it, loss=0.355, num_labels=113, accuracy=0.132]\u001b[A\n",
            " 40%|████      | 20/50 [17:26<25:14, 50.50s/it, loss=0.37, num_labels=113, accuracy=0.13]  \u001b[A\n",
            " 42%|████▏     | 21/50 [17:26<24:12, 50.08s/it, loss=0.37, num_labels=113, accuracy=0.13]\u001b[A\n",
            " 42%|████▏     | 21/50 [18:16<24:12, 50.08s/it, loss=0.354, num_labels=106, accuracy=0.131]\u001b[A\n",
            " 44%|████▍     | 22/50 [18:16<23:16, 49.87s/it, loss=0.354, num_labels=106, accuracy=0.131]\u001b[A\n",
            " 44%|████▍     | 22/50 [19:06<23:16, 49.87s/it, loss=0.358, num_labels=109, accuracy=0.131]\u001b[A\n",
            " 46%|████▌     | 23/50 [19:06<22:28, 49.93s/it, loss=0.358, num_labels=109, accuracy=0.131]\u001b[A\n",
            " 46%|████▌     | 23/50 [19:56<22:28, 49.93s/it, loss=0.351, num_labels=104, accuracy=0.133]\u001b[A\n",
            " 48%|████▊     | 24/50 [19:56<21:42, 50.09s/it, loss=0.351, num_labels=104, accuracy=0.133]\u001b[A\n",
            " 48%|████▊     | 24/50 [20:45<21:42, 50.09s/it, loss=0.339, num_labels=103, accuracy=0.133]\u001b[A\n",
            " 50%|█████     | 25/50 [20:45<20:45, 49.82s/it, loss=0.339, num_labels=103, accuracy=0.133]\u001b[A"
          ],
          "name": "stderr"
        },
        {
          "output_type": "error",
          "ename": "KeyboardInterrupt",
          "evalue": "ignored",
          "traceback": [
            "\u001b[0;31m---------------------------------------------------------------------------\u001b[0m",
            "\u001b[0;31mKeyboardInterrupt\u001b[0m                         Traceback (most recent call last)",
            "\u001b[0;32m<ipython-input-11-fd9f45c4e967>\u001b[0m in \u001b[0;36m<module>\u001b[0;34m()\u001b[0m\n\u001b[1;32m     10\u001b[0m              \u001b[0;34m[\u001b[0m\u001b[0maccuracy\u001b[0m\u001b[0;34m]\u001b[0m\u001b[0;34m,\u001b[0m\u001b[0;34m\u001b[0m\u001b[0;34m\u001b[0m\u001b[0m\n\u001b[1;32m     11\u001b[0m              \u001b[0msemi_self\u001b[0m\u001b[0;34m=\u001b[0m\u001b[0;32mTrue\u001b[0m\u001b[0;34m,\u001b[0m\u001b[0;34m\u001b[0m\u001b[0;34m\u001b[0m\u001b[0m\n\u001b[0;32m---> 12\u001b[0;31m              th=0.9)\n\u001b[0m",
            "\u001b[0;32m/content/looper.py\u001b[0m in \u001b[0;36mtrain\u001b[0;34m(self, model, epochs, train_set, val_set, optimizer, loss_fn, val_funcs, semi_self, th)\u001b[0m\n\u001b[1;32m    127\u001b[0m             \u001b[0mB\u001b[0m \u001b[0;34m=\u001b[0m \u001b[0mself\u001b[0m\u001b[0;34m.\u001b[0m\u001b[0mval_step\u001b[0m\u001b[0;34m(\u001b[0m\u001b[0mmodel\u001b[0m\u001b[0;34m,\u001b[0m \u001b[0mval_funcs\u001b[0m\u001b[0;34m,\u001b[0m \u001b[0mval_set\u001b[0m\u001b[0;34m)\u001b[0m\u001b[0;34m\u001b[0m\u001b[0;34m\u001b[0m\u001b[0m\n\u001b[1;32m    128\u001b[0m             \u001b[0;32mif\u001b[0m \u001b[0msemi_self\u001b[0m\u001b[0;34m:\u001b[0m\u001b[0;34m\u001b[0m\u001b[0;34m\u001b[0m\u001b[0m\n\u001b[0;32m--> 129\u001b[0;31m                 \u001b[0mself\u001b[0m\u001b[0;34m.\u001b[0m\u001b[0mtrain_step_self\u001b[0m\u001b[0;34m(\u001b[0m\u001b[0mmodel\u001b[0m\u001b[0;34m,\u001b[0m \u001b[0moptimizer\u001b[0m\u001b[0;34m,\u001b[0m \u001b[0mloss_fn\u001b[0m\u001b[0;34m,\u001b[0m \u001b[0mtrain_set\u001b[0m\u001b[0;34m,\u001b[0m \u001b[0mth\u001b[0m\u001b[0;34m)\u001b[0m\u001b[0;34m\u001b[0m\u001b[0;34m\u001b[0m\u001b[0m\n\u001b[0m\u001b[1;32m    130\u001b[0m             \u001b[0;32melse\u001b[0m\u001b[0;34m:\u001b[0m\u001b[0;34m\u001b[0m\u001b[0;34m\u001b[0m\u001b[0m\n\u001b[1;32m    131\u001b[0m                 \u001b[0mself\u001b[0m\u001b[0;34m.\u001b[0m\u001b[0mtrain_step\u001b[0m\u001b[0;34m(\u001b[0m\u001b[0mmodel\u001b[0m\u001b[0;34m,\u001b[0m \u001b[0moptimizer\u001b[0m\u001b[0;34m,\u001b[0m \u001b[0mloss_fn\u001b[0m\u001b[0;34m,\u001b[0m \u001b[0mtrain_set\u001b[0m\u001b[0;34m)\u001b[0m\u001b[0;34m\u001b[0m\u001b[0;34m\u001b[0m\u001b[0m\n",
            "\u001b[0;32m/content/looper.py\u001b[0m in \u001b[0;36mtrain_step_self\u001b[0;34m(self, model, optimizer, loss_fn, train_set, th, unk)\u001b[0m\n\u001b[1;32m     84\u001b[0m             \u001b[0mloss\u001b[0m \u001b[0;34m=\u001b[0m \u001b[0mloss_fn\u001b[0m\u001b[0;34m(\u001b[0m\u001b[0mweak_preds\u001b[0m\u001b[0;34m,\u001b[0m \u001b[0mpseudo_labels\u001b[0m\u001b[0;34m)\u001b[0m\u001b[0;34m\u001b[0m\u001b[0;34m\u001b[0m\u001b[0m\n\u001b[1;32m     85\u001b[0m             \u001b[0mloss\u001b[0m \u001b[0;34m=\u001b[0m \u001b[0;34m(\u001b[0m\u001b[0mnon_zero_labels\u001b[0m\u001b[0;34m.\u001b[0m\u001b[0mto\u001b[0m\u001b[0;34m(\u001b[0m\u001b[0mself\u001b[0m\u001b[0;34m.\u001b[0m\u001b[0mdevice\u001b[0m\u001b[0;34m)\u001b[0m \u001b[0;34m*\u001b[0m \u001b[0mloss\u001b[0m\u001b[0;34m)\u001b[0m\u001b[0;34m.\u001b[0m\u001b[0mmean\u001b[0m\u001b[0;34m(\u001b[0m\u001b[0;34m)\u001b[0m\u001b[0;34m\u001b[0m\u001b[0;34m\u001b[0m\u001b[0m\n\u001b[0;32m---> 86\u001b[0;31m             \u001b[0mloss\u001b[0m\u001b[0;34m.\u001b[0m\u001b[0mbackward\u001b[0m\u001b[0;34m(\u001b[0m\u001b[0;34m)\u001b[0m\u001b[0;34m\u001b[0m\u001b[0;34m\u001b[0m\u001b[0m\n\u001b[0m\u001b[1;32m     87\u001b[0m             \u001b[0moptimizer\u001b[0m\u001b[0;34m.\u001b[0m\u001b[0mstep\u001b[0m\u001b[0;34m(\u001b[0m\u001b[0;34m)\u001b[0m\u001b[0;34m\u001b[0m\u001b[0;34m\u001b[0m\u001b[0m\n\u001b[1;32m     88\u001b[0m             \u001b[0mself\u001b[0m\u001b[0;34m.\u001b[0m\u001b[0mlogger\u001b[0m\u001b[0;34m.\u001b[0m\u001b[0mupdate\u001b[0m\u001b[0;34m(\u001b[0m\u001b[0;34m\"num_labels\"\u001b[0m\u001b[0;34m,\u001b[0m \u001b[0msum\u001b[0m\u001b[0;34m(\u001b[0m\u001b[0mnon_zero_labels\u001b[0m\u001b[0;34m==\u001b[0m\u001b[0;36m1\u001b[0m\u001b[0;34m)\u001b[0m\u001b[0;34m.\u001b[0m\u001b[0mitem\u001b[0m\u001b[0;34m(\u001b[0m\u001b[0;34m)\u001b[0m\u001b[0;34m)\u001b[0m\u001b[0;34m\u001b[0m\u001b[0;34m\u001b[0m\u001b[0m\n",
            "\u001b[0;32m/usr/local/lib/python3.6/dist-packages/torch/tensor.py\u001b[0m in \u001b[0;36mbackward\u001b[0;34m(self, gradient, retain_graph, create_graph)\u001b[0m\n\u001b[1;32m    196\u001b[0m                 \u001b[0mproducts\u001b[0m\u001b[0;34m.\u001b[0m \u001b[0mDefaults\u001b[0m \u001b[0mto\u001b[0m\u001b[0;31m \u001b[0m\u001b[0;31m`\u001b[0m\u001b[0;31m`\u001b[0m\u001b[0;32mFalse\u001b[0m\u001b[0;31m`\u001b[0m\u001b[0;31m`\u001b[0m\u001b[0;34m.\u001b[0m\u001b[0;34m\u001b[0m\u001b[0;34m\u001b[0m\u001b[0m\n\u001b[1;32m    197\u001b[0m         \"\"\"\n\u001b[0;32m--> 198\u001b[0;31m         \u001b[0mtorch\u001b[0m\u001b[0;34m.\u001b[0m\u001b[0mautograd\u001b[0m\u001b[0;34m.\u001b[0m\u001b[0mbackward\u001b[0m\u001b[0;34m(\u001b[0m\u001b[0mself\u001b[0m\u001b[0;34m,\u001b[0m \u001b[0mgradient\u001b[0m\u001b[0;34m,\u001b[0m \u001b[0mretain_graph\u001b[0m\u001b[0;34m,\u001b[0m \u001b[0mcreate_graph\u001b[0m\u001b[0;34m)\u001b[0m\u001b[0;34m\u001b[0m\u001b[0;34m\u001b[0m\u001b[0m\n\u001b[0m\u001b[1;32m    199\u001b[0m \u001b[0;34m\u001b[0m\u001b[0m\n\u001b[1;32m    200\u001b[0m     \u001b[0;32mdef\u001b[0m \u001b[0mregister_hook\u001b[0m\u001b[0;34m(\u001b[0m\u001b[0mself\u001b[0m\u001b[0;34m,\u001b[0m \u001b[0mhook\u001b[0m\u001b[0;34m)\u001b[0m\u001b[0;34m:\u001b[0m\u001b[0;34m\u001b[0m\u001b[0;34m\u001b[0m\u001b[0m\n",
            "\u001b[0;32m/usr/local/lib/python3.6/dist-packages/torch/autograd/__init__.py\u001b[0m in \u001b[0;36mbackward\u001b[0;34m(tensors, grad_tensors, retain_graph, create_graph, grad_variables)\u001b[0m\n\u001b[1;32m     98\u001b[0m     Variable._execution_engine.run_backward(\n\u001b[1;32m     99\u001b[0m         \u001b[0mtensors\u001b[0m\u001b[0;34m,\u001b[0m \u001b[0mgrad_tensors\u001b[0m\u001b[0;34m,\u001b[0m \u001b[0mretain_graph\u001b[0m\u001b[0;34m,\u001b[0m \u001b[0mcreate_graph\u001b[0m\u001b[0;34m,\u001b[0m\u001b[0;34m\u001b[0m\u001b[0;34m\u001b[0m\u001b[0m\n\u001b[0;32m--> 100\u001b[0;31m         allow_unreachable=True)  # allow_unreachable flag\n\u001b[0m\u001b[1;32m    101\u001b[0m \u001b[0;34m\u001b[0m\u001b[0m\n\u001b[1;32m    102\u001b[0m \u001b[0;34m\u001b[0m\u001b[0m\n",
            "\u001b[0;31mKeyboardInterrupt\u001b[0m: "
          ]
        }
      ]
    }
  ]
}