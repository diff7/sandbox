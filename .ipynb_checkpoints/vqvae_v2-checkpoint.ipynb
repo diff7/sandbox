{
  "nbformat": 4,
  "nbformat_minor": 0,
  "metadata": {
    "colab": {
      "name": "vqvae_v2.ipynb",
      "provenance": [],
      "collapsed_sections": []
    },
    "kernelspec": {
      "name": "python3",
      "display_name": "Python 3"
    },
    "accelerator": "GPU"
  },
  "cells": [
    {
      "cell_type": "code",
      "metadata": {
        "id": "km-6yM_bwiKl",
        "colab_type": "code",
        "colab": {}
      },
      "source": [
        "import torch\n",
        "import torch.nn as nn\n",
        "import torch.nn.functional as F\n",
        "\n",
        "\n",
        "\n",
        "class Quantize(nn.Module):\n",
        "    \"\"\"\n",
        "    DIM_C - embedding dimension\n",
        "    is the same as number of conv layer channels.\n",
        "    \"\"\"\n",
        "\n",
        "    def __init__(self, K, DIM_C):\n",
        "        super().__init__()\n",
        "        self.embedding_KxDIM_C = nn.Embedding(K, DIM_C)\n",
        "        self.embedding_KxDIM_C.weight.data.uniform_(-1./K,1./K)\n",
        "        self.DIM_C = DIM_C\n",
        "       \n",
        "    def forward(self, z):\n",
        "        B, _, W, H = z.shape\n",
        "        weight = self.embedding_KxDIM_C.weight\n",
        "\n",
        "        # BxCxWxH -> BxWxHxC -> (BxHxW)xC\n",
        "        flat_inputs = z.permute(0, 2, 3, 1).contiguous().view(-1, self.DIM_C)\n",
        "\n",
        "        # Memory cool but not clear\n",
        "        # distances = (flat_inputs ** 2).sum(dim=1, keepdim=True) \\\n",
        "        #             - 2 * torch.mm(flat_inputs, weight.t()) \\\n",
        "        #             + (weight.t() ** 2).sum(dim=0, keepdim=True)\n",
        "        \n",
        "        # Not memory cool but clear\n",
        "        distances =  torch.pow(flat_inputs[None,:,:] - weight[:,None,:],2).sum(2)\n",
        "        encoding_indices = torch.max(-distances, dim=0)[1]\n",
        "        encoding_indices = encoding_indices.view(B, W, H)\n",
        "        quantized = self.embedding_KxDIM_C(encoding_indices).permute(0, 3, 1, 2).contiguous()\n",
        "\n",
        "        return quantized, encoding_indices\n",
        "\n",
        "class ConvEncoder(nn.Module):\n",
        "    def __init__(self, DIM_IN_CxWxH, n=3):\n",
        "        super().__init__()\n",
        "\n",
        "        C_OUT = 16\n",
        "        self.conv_out_dim =  C_OUT*(2**n), DIM_IN_CxWxH[1], DIM_IN_CxWxH[2]\n",
        "        convs = [nn.Conv2d(DIM_IN_CxWxH[0], C_OUT, 3, padding=1)]\n",
        "        for i in range(n):  # last Conv2D C_IN  = 64,  C_OUT = 128\n",
        "            C_IN = C_OUT\n",
        "            C_OUT = 2 * C_IN\n",
        "            convs.append(nn.ReLU())\n",
        "            convs.append(nn.Conv2d(C_IN, C_OUT, 3, stride=2, padding=1))\n",
        "            self.conv_out_dim = (self.conv_out_dim[0],\n",
        "                (self.conv_out_dim[1] - 1) // 2 + 1,\n",
        "                (self.conv_out_dim[2] - 1) // 2 + 1,\n",
        "               \n",
        "            )\n",
        "        self.convs = nn.Sequential(*convs)\n",
        "    def forward(self, x_BxCxWxH):\n",
        "        return self.convs(x_BxCxWxH)\n",
        "\n",
        "\n",
        "class ConvDecoder(nn.Module):\n",
        "    \"\"\"\n",
        "    Hout =(Hin−1)×stride[0]−2×padding[0]+dilation[0]×(kernel_size[0]−1)+output_padding[0]+1\n",
        "    \"\"\"\n",
        "    def __init__(self, DIM_IN_CxWxH, DIM_OUT_CxWxH, C_MID=16, n=3):\n",
        "        super().__init__()\n",
        "\n",
        "        params = {\"kernel_size\": 4, \"stride\": 2, \"padding\": 1}\n",
        "       \n",
        "        #self.fc = nn.Linear(DIM_IN, self.W * self.H)\n",
        "        # works only for odd dimensions\n",
        "        # get difference after upsizing with stride 2    \n",
        "        out_pad_W, out_pad_H = (\n",
        "            ( DIM_IN_CxWxH[1] * 2 ** n - DIM_OUT_CxWxH[1]) // 2,\n",
        "            ( DIM_IN_CxWxH[2] * 2 ** n - DIM_OUT_CxWxH[2]) // 2,\n",
        "        )    \n",
        "        convs = []\n",
        "        C_IN = DIM_IN_CxWxH[0]\n",
        "        for i in range(0, n):\n",
        "            convs.append(nn.ReLU())\n",
        "            convs.append(nn.ConvTranspose2d(C_IN, C_MID, **params))\n",
        "            C_IN = C_MID\n",
        "\n",
        "        # add 2*padd on each side\n",
        "        self.out_sizes = (out_pad_W, out_pad_H, DIM_IN_CxWxH[1] * 2 ** n, \n",
        "                          DIM_IN_CxWxH[2] * 2 ** n)\n",
        "        convs += [\n",
        "            nn.ReLU(),\n",
        "            nn.ConvTranspose2d(C_MID, C_MID, 1, padding=(out_pad_W, out_pad_H)),\n",
        "            nn.ReLU(),\n",
        "            nn.Conv2d(C_MID, C_MID, 1, padding=0),\n",
        "            nn.ReLU(),\n",
        "            nn.Conv2d(C_MID, DIM_OUT_CxWxH[0], 1, padding=0)\n",
        "        ]\n",
        "        self.convs = nn.Sequential(*convs)\n",
        "\n",
        "    def forward(self, x_BxCWxH):\n",
        "        return self.convs( x_BxCWxH)\n",
        "\n",
        "\n",
        "class VQ_Vae(nn.Module):\n",
        "    def __init__(self, DIM_IN, K):\n",
        "        super().__init__()\n",
        "        DIM_IN_CxWxH = DIM_IN\n",
        "\n",
        "        self.encoder = ConvEncoder(DIM_IN_CxWxH)\n",
        "        DIM_OUT_CxWxH  = self.encoder.conv_out_dim\n",
        "        self.quantize = Quantize(K, DIM_OUT_CxWxH[0])\n",
        "        print('Quantizer dim code size ',  DIM_OUT_CxWxH[0])\n",
        "        print('Encoder out sizes ',  DIM_OUT_CxWxH)\n",
        "        self.decoder = ConvDecoder(DIM_OUT_CxWxH, DIM_IN_CxWxH)\n",
        "        print('Decoder intermediate sizes ',  self.decoder.out_sizes)\n",
        "\n",
        "    def losses(self, orig, reconstructed, e, z):\n",
        "        decoder_loss = F.mse_loss(orig, reconstructed)  # Update decoder & encoder\n",
        "        encoder_loss = torch.mean((e - z.detach()) ** 2)  # Update encoder\n",
        "        embedding_loss = torch.mean((e.detach() - z) ** 2)  # Update embeddings\n",
        "        total = decoder_loss + encoder_loss + embedding_loss\n",
        "        return {\n",
        "            \"total\": total,\n",
        "            \"decoder_loss\": encoder_loss,\n",
        "            \"encoder_loss\": decoder_loss,\n",
        "        }\n",
        "\n",
        "    def forward(self, x_BxCxWxH):\n",
        "        e_BxCxWxH = self.encoder(x_BxCxWxH)\n",
        "        z_BxCxWxH, indices = self.quantize(e_BxCxWxH)\n",
        "        z_w_grad_enc_BxCxWxH = (z_BxCxWxH - e_BxCxWxH).detach() + e_BxCxWxH\n",
        "        reconstructed_BxCxWxH = self.decoder(z_w_grad_enc_BxCxWxH)\n",
        "\n",
        "        return reconstructed_BxCxWxH, self.losses(x_BxCxWxH, reconstructed_BxCxWxH, e_BxCxWxH, z_BxCxWxH)\n",
        "\n",
        "    "
      ],
      "execution_count": 0,
      "outputs": []
    },
    {
      "cell_type": "code",
      "metadata": {
        "id": "rScIGZvQzwkO",
        "colab_type": "code",
        "colab": {}
      },
      "source": [
        "class Quantize(nn.Module):\n",
        "    \"\"\"\n",
        "    DIM_C - embedding dimension\n",
        "    is the same as number of conv layer channels.\n",
        "    \"\"\"\n",
        "\n",
        "    def __init__(self, K, DIM_C):\n",
        "        super().__init__()\n",
        "        self.embedding_KxDIM_C = nn.Embedding(K, DIM_C)\n",
        "        self.embedding_KxDIM_C.weight.data.uniform_(-1./K,1./K)\n",
        "        self.DIM_C = DIM_C\n",
        "       \n",
        "    def forward(self, z):\n",
        "        B, _, W, H = z.shape\n",
        "        weight = self.embedding_KxDIM_C.weight\n",
        "\n",
        "        # BxCxWxH -> BxWxHxC -> (BxHxW)xC\n",
        "        flat_inputs = z.permute(0, 2, 3, 1).contiguous().view(-1, self.DIM_C)\n",
        "\n",
        "        # Memory cool but not clear\n",
        "        # distances = (flat_inputs ** 2).sum(dim=1, keepdim=True) \\\n",
        "        #             - 2 * torch.mm(flat_inputs, weight.t()) \\\n",
        "        #             + (weight.t() ** 2).sum(dim=0, keepdim=True)\n",
        "        \n",
        "        # Not memory cool but clear\n",
        "        distances =  torch.pow(flat_inputs[None,:,:] - weight[:,None,:],2).sum(2)\n",
        "        encoding_indices = torch.max(-distances, dim=0)[1]\n",
        "        encoding_indices = encoding_indices.view(B, W, H)\n",
        "        quantized = self.embedding_KxDIM_C(encoding_indices).permute(0, 3, 1, 2).contiguous()\n",
        "\n",
        "        return quantized, encoding_indices"
      ],
      "execution_count": 0,
      "outputs": []
    },
    {
      "cell_type": "code",
      "metadata": {
        "id": "JLFDqtEPzyba",
        "colab_type": "code",
        "outputId": "95047249-52a9-424c-b10d-d2dc47c5eddd",
        "colab": {
          "base_uri": "https://localhost:8080/",
          "height": 52
        }
      },
      "source": [
        "q = Quantize(5, 3)\n",
        "ten = torch.rand(size=(1,3,10,10))\n",
        "quantized, encoding_indices = q(ten)"
      ],
      "execution_count": 106,
      "outputs": [
        {
          "output_type": "stream",
          "text": [
            "torch.Size([5, 100])\n",
            "torch.Size([100])\n"
          ],
          "name": "stdout"
        }
      ]
    },
    {
      "cell_type": "code",
      "metadata": {
        "id": "OvqDf2jlhmqp",
        "colab_type": "code",
        "colab": {
          "base_uri": "https://localhost:8080/",
          "height": 52
        },
        "outputId": "766a4f12-e73d-4387-8267-2956a785580b"
      },
      "source": [
        "ten = torch.rand(size=(145,3,50,50))\n",
        "ecnoder = ConvEncoder((3,50,50))\n",
        "print(ecnoder.conv_out_dim)\n",
        "ecnoder(ten).shape"
      ],
      "execution_count": 119,
      "outputs": [
        {
          "output_type": "stream",
          "text": [
            "(128, 7, 7)\n"
          ],
          "name": "stdout"
        },
        {
          "output_type": "execute_result",
          "data": {
            "text/plain": [
              "torch.Size([145, 128, 7, 7])"
            ]
          },
          "metadata": {
            "tags": []
          },
          "execution_count": 119
        }
      ]
    },
    {
      "cell_type": "code",
      "metadata": {
        "id": "2Z96YxtaiAJU",
        "colab_type": "code",
        "colab": {
          "base_uri": "https://localhost:8080/",
          "height": 52
        },
        "outputId": "a7cb8dd1-aa06-44c5-e965-9683ae9a3e2f"
      },
      "source": [
        "ten = torch.rand(size=(145,3,4,4))\n",
        "decoder = ConvDecoder((3,4,4), (1,32,32),n=3)\n",
        "print(decoder.out_sizes)\n",
        "decoder(ten).shape"
      ],
      "execution_count": 125,
      "outputs": [
        {
          "output_type": "stream",
          "text": [
            "(0, 0, 32, 32)\n"
          ],
          "name": "stdout"
        },
        {
          "output_type": "execute_result",
          "data": {
            "text/plain": [
              "torch.Size([145, 1, 32, 32])"
            ]
          },
          "metadata": {
            "tags": []
          },
          "execution_count": 125
        }
      ]
    },
    {
      "cell_type": "code",
      "metadata": {
        "id": "aLvdluKPfshR",
        "colab_type": "code",
        "colab": {
          "base_uri": "https://localhost:8080/",
          "height": 34
        },
        "outputId": "22d607ce-1aea-4f54-e06c-13f660718f0e"
      },
      "source": [
        "ten = torch.rand(size=(3,3,10,10))\n",
        "flatten_input = ten.flatten(end_dim=-2).contiguous()\n",
        "flatten_input.shape"
      ],
      "execution_count": 5,
      "outputs": [
        {
          "output_type": "execute_result",
          "data": {
            "text/plain": [
              "torch.Size([90, 10])"
            ]
          },
          "metadata": {
            "tags": []
          },
          "execution_count": 5
        }
      ]
    },
    {
      "cell_type": "code",
      "metadata": {
        "id": "RusVNgxLmVYs",
        "colab_type": "code",
        "colab": {}
      },
      "source": [
        "ten = torch.rand(size=(3,5))\n",
        "\n",
        "q = Quantize(10, 5)\n",
        "ind = q(ten)\n",
        "print(ind)\n",
        "print(q.sample(ind))\n"
      ],
      "execution_count": 0,
      "outputs": []
    },
    {
      "cell_type": "code",
      "metadata": {
        "id": "nJBaf_EWvmDK",
        "colab_type": "code",
        "outputId": "7efbb877-c49e-48d4-9ef4-62597b218b70",
        "colab": {
          "base_uri": "https://localhost:8080/",
          "height": 34
        }
      },
      "source": [
        "use_cuda = torch.cuda.is_available()\n",
        "torch.manual_seed(228)\n",
        "device = torch.device(\"cuda\" if use_cuda else \"cpu\")\n",
        "device"
      ],
      "execution_count": 0,
      "outputs": [
        {
          "output_type": "execute_result",
          "data": {
            "text/plain": [
              "device(type='cuda')"
            ]
          },
          "metadata": {
            "tags": []
          },
          "execution_count": 231
        }
      ]
    },
    {
      "cell_type": "code",
      "metadata": {
        "id": "nBZWf89TwYQd",
        "colab_type": "code",
        "colab": {}
      },
      "source": [
        "dim_in = (3,20,20)\n",
        "K = 10\n",
        "code = 10\n",
        "model = VQ_Vae(dim_in, code, K)"
      ],
      "execution_count": 0,
      "outputs": []
    },
    {
      "cell_type": "code",
      "metadata": {
        "id": "Rl19k5SODI_l",
        "colab_type": "code",
        "outputId": "320ecf5c-4594-4540-b9f2-73484378a14e",
        "colab": {
          "base_uri": "https://localhost:8080/",
          "height": 34
        }
      },
      "source": [
        "codes = model.quantize.emb_KxDIM(torch.tensor([1,2,4]))\n",
        "model.decoder(codes).shape"
      ],
      "execution_count": 0,
      "outputs": [
        {
          "output_type": "execute_result",
          "data": {
            "text/plain": [
              "torch.Size([3, 3, 20, 20])"
            ]
          },
          "metadata": {
            "tags": []
          },
          "execution_count": 4
        }
      ]
    },
    {
      "cell_type": "code",
      "metadata": {
        "id": "-zf9vRTi8OBr",
        "colab_type": "code",
        "colab": {}
      },
      "source": [
        "import matplotlib.pyplot as plt\n",
        "import sklearn\n",
        "from sklearn import datasets\n",
        "# data = faces  = sklearn.datasets.fetch_lfw_people(color=True)\n",
        "# data = data.images"
      ],
      "execution_count": 0,
      "outputs": []
    },
    {
      "cell_type": "code",
      "metadata": {
        "id": "LAAU4fkl91m-",
        "colab_type": "code",
        "colab": {}
      },
      "source": [
        "import random \n",
        "\n",
        "def plot(data, rows=2, cols=4):\n",
        "    f, ax = plt.subplots(rows, cols, figsize=(cols*3,rows*2))\n",
        "    ids = range(data.shape[0])\n",
        "    sample = random.sample(ids, rows*cols)\n",
        "    k = 0\n",
        "    for i in range(rows):\n",
        "        for j in range(cols):\n",
        "            im_id = sample[k]\n",
        "            k+=1\n",
        "            ax[i,j].imshow(data[im_id])\n",
        "\n",
        "plot(dataset.data)"
      ],
      "execution_count": 0,
      "outputs": []
    },
    {
      "cell_type": "code",
      "metadata": {
        "id": "4rfKkLW7-hFD",
        "colab_type": "code",
        "colab": {}
      },
      "source": [
        "import matplotlib.pyplot as plt\n",
        "\n",
        "def plot_tensor(orig, recover,  rows=2, cols=4):\n",
        "    f, ax = plt.subplots(rows, cols, figsize=(cols*2,rows*3))\n",
        "    ids = range(orig.shape[0])\n",
        "    sample = random.sample(ids, rows*cols)\n",
        "    k = 0\n",
        "    for i in range(rows):\n",
        "        for j in range(0,cols,2):\n",
        "            im_id = sample[k]\n",
        "            k+=1\n",
        "            im_orig = orig[im_id].detach().cpu().numpy()[0] #.transpose(1,2,0)\n",
        "            im_recover = recover[im_id].detach().cpu().numpy()[0]\n",
        "            im_orig = (im_orig - im_orig.min())/(im_orig.max()-im_orig.min())\n",
        "            im_recover = (im_recover - im_recover.min())/(im_recover.max()-im_recover.min())\n",
        "            ax[i,j].imshow(im_orig)\n",
        "            ax[i,j].set_title('orig')\n",
        "            ax[i,j+1].imshow(im_recover)\n",
        "            ax[i,j+1].set_title('recon')"
      ],
      "execution_count": 0,
      "outputs": []
    },
    {
      "cell_type": "code",
      "metadata": {
        "id": "YwNNmHlf9sXi",
        "colab_type": "code",
        "colab": {}
      },
      "source": [
        "# Load celeb_A\n",
        "\n",
        "import numpy as np\n",
        "from torch.utils.data import TensorDataset, DataLoader\n",
        "\n",
        "\n",
        "tensor_imgs = torch.Tensor((data/255)[:,:,1:,:].transpose(0,3,1,2)) \n",
        "dataset = TensorDataset(tensor_imgs) \n",
        "dataloader = DataLoader(dataset,batch_size=4, shuffle=True) "
      ],
      "execution_count": 0,
      "outputs": []
    },
    {
      "cell_type": "code",
      "metadata": {
        "id": "S3mpyoUhZBz5",
        "colab_type": "code",
        "colab": {}
      },
      "source": [
        "# load Fashion Mnist\n",
        "\n",
        "import torchvision\n",
        "dataset  = torchvision.datasets.FashionMNIST('./', download=True)\n",
        "\n",
        "import numpy as np\n",
        "from torch.utils.data import TensorDataset, DataLoader\n",
        "\n",
        "dataset = TensorDataset(dataset.data.unsqueeze(1).type(torch.float32)/255) \n",
        "dataloader = DataLoader(dataset,batch_size=8, shuffle=True) "
      ],
      "execution_count": 0,
      "outputs": []
    },
    {
      "cell_type": "code",
      "metadata": {
        "id": "4Xs7Wm4JA3oe",
        "colab_type": "code",
        "outputId": "da897c34-185e-44bf-e5ee-e6625413c8e0",
        "colab": {
          "base_uri": "https://localhost:8080/",
          "height": 339
        }
      },
      "source": [
        "iterable = iter(dataloader)\n",
        "batch = next(iterable)\n",
        "batch =  batch[0].cuda()\n",
        "plot_tensor(batch, batch)"
      ],
      "execution_count": 48,
      "outputs": [
        {
          "output_type": "display_data",
          "data": {
            "image/png": "[encoded data removed]",
            "text/plain": [
              "<Figure size 576x432 with 8 Axes>"
            ]
          },
          "metadata": {
            "tags": [],
            "needs_background": "light"
          }
        }
      ]
    },
    {
      "cell_type": "code",
      "metadata": {
        "id": "e9JV2HFUCtOp",
        "colab_type": "code",
        "colab": {}
      },
      "source": [
        "class Logger:\n",
        "    def __init__(self, metrics):\n",
        "        self.metrics = {name:[0] for name in metrics}\n",
        "    def update(self, name, value):\n",
        "        self.metrics[name].append(value)\n",
        "    def get(self, name):\n",
        "        return self.metrics[name]\n",
        "    def print_last(self):\n",
        "        for name in self.metrics:\n",
        "            print(f'{name} : {self.metrics[name][-1]}')\n",
        "    def reset(self):\n",
        "        for m in self.metrics:\n",
        "            self.metrics[m] = [0]\n",
        "    def avg(self,name):\n",
        "        return  sum(self.metrics[name])/(len(self.metrics[name])-1)\n",
        "        \n",
        "\n",
        "\n",
        "logger = Logger(['total_loss','encoder_loss_z-e','decoder_loss_mse'])"
      ],
      "execution_count": 0,
      "outputs": []
    },
    {
      "cell_type": "code",
      "metadata": {
        "id": "FlK6-6ARBx_0",
        "colab_type": "code",
        "colab": {}
      },
      "source": [
        "from IPython import display\n",
        "import torch.optim as optim\n",
        "\n",
        "def train_step(model, dataloader, optimizer, device):\n",
        "    model.train()\n",
        "    for batch in dataloader:\n",
        "        batch = batch[0].to(device)\n",
        "        optimizer.zero_grad()\n",
        "        recon_im, losses = model(batch)    \n",
        "        losses['total'].backward()\n",
        "        optimizer.step()\n",
        "\n",
        "        logger.update('total_loss', losses['total'].item())\n",
        "        logger.update('encoder_loss_z-e', losses['encoder_loss'].item())\n",
        "        logger.update('decoder_loss_mse', losses['decoder_loss'].item())\n",
        "    \n",
        "    return logger\n",
        "\n",
        "def test(model,dataloader, device):\n",
        "    batch = next(iter(dataloader))[0]\n",
        "    batch = batch.to(device)\n",
        "    out, _ = model(batch)\n",
        "    plot_tensor(batch,out)\n",
        "\n",
        "    indices = torch.tensor(range(128*4*4)).to(device)\n",
        "    indices = indices.reshape(128,4,4)\n",
        "    codes = model.quantize.embedding(indices).permute(0, 3, 1, 2)\n",
        "\n",
        "    code_imgs  = model.decoder(codes)\n",
        "    plot_tensor(code_imgs,code_imgs)"
      ],
      "execution_count": 0,
      "outputs": []
    },
    {
      "cell_type": "code",
      "metadata": {
        "id": "3PPmmRLUeoC4",
        "colab_type": "code",
        "colab": {
          "base_uri": "https://localhost:8080/",
          "height": 34
        },
        "outputId": "eee92f5e-29a7-4388-bc10-09c7d6b34fe0"
      },
      "source": [
        "indices = torch.tensor(range(128*4*4)).to(device)\n",
        "indices = indices.reshape(128,4,4)\n",
        "codes = model.quantize.embedding(indices).permute(0, 3, 1, 2) #.contiguous()\n",
        "codes.shape"
      ],
      "execution_count": 75,
      "outputs": [
        {
          "output_type": "execute_result",
          "data": {
            "text/plain": [
              "torch.Size([128, 128, 4, 4])"
            ]
          },
          "metadata": {
            "tags": []
          },
          "execution_count": 75
        }
      ]
    },
    {
      "cell_type": "code",
      "metadata": {
        "id": "ECewlRo5e1ea",
        "colab_type": "code",
        "colab": {}
      },
      "source": [
        " model.decoder(codes)"
      ],
      "execution_count": 0,
      "outputs": []
    },
    {
      "cell_type": "code",
      "metadata": {
        "id": "sh8AzxTVHeQL",
        "colab_type": "code",
        "colab": {
          "base_uri": "https://localhost:8080/",
          "height": 69
        },
        "outputId": "7a2b9ea4-6dc1-43cf-e7ee-6178c72f200c"
      },
      "source": [
        "params = {'model':{'DIM_IN':(1,28,28),\n",
        "          'K':100,\n",
        "          #'DIM_CODE':10\n",
        "          },\n",
        "          'lr':1e-5,\n",
        "          'epochs':10}\n",
        "\n",
        "\n",
        "use_cuda = True\n",
        "device = torch.device(\"cuda\" if use_cuda else \"cpu\")\n",
        "model = VQ_Vae(**params['model'])\n",
        "optimizer = optim.Adam(model.parameters(), params['lr'])\n",
        "def train(params):\n",
        "    print(model)\n",
        "    model.cuda()\n",
        "    for i in range(params['epochs']):\n",
        "        #if i%10 == 0:\n",
        "            #test(model, dataloader, device)\n",
        "            #display.clear_output(wait=3)\n",
        "        losses = train_step(model, dataloader, optimizer, device)\n",
        "        print(f' epoch: {i+1}',' '.join([str(m)+' '+str(logger.avg(m))  for m in logger.metrics]))\n",
        "        losses.reset()\n"
      ],
      "execution_count": 109,
      "outputs": [
        {
          "output_type": "stream",
          "text": [
            "Quantizer dim code size  128\n",
            "Encoder out sizes  (128, 4, 4)\n",
            "Decoder intermediate sizes  (2, 2, 32, 32)\n"
          ],
          "name": "stdout"
        }
      ]
    },
    {
      "cell_type": "code",
      "metadata": {
        "id": "C6QLpI1kKhPt",
        "colab_type": "code",
        "outputId": "e861ebf0-a9d2-465e-f428-6b0ac4383ea4",
        "colab": {
          "base_uri": "https://localhost:8080/",
          "height": 729
        }
      },
      "source": [
        "train(params)"
      ],
      "execution_count": 0,
      "outputs": [
        {
          "output_type": "stream",
          "text": [
            "VQ_Vae(\n",
            "  (encoder): ConvEncoder(\n",
            "    (convs): Sequential(\n",
            "      (0): Conv2d(1, 16, kernel_size=(3, 3), stride=(1, 1), padding=(1, 1))\n",
            "      (1): ReLU()\n",
            "      (2): Conv2d(16, 32, kernel_size=(3, 3), stride=(2, 2), padding=(1, 1))\n",
            "      (3): ReLU()\n",
            "      (4): Conv2d(32, 64, kernel_size=(3, 3), stride=(2, 2), padding=(1, 1))\n",
            "      (5): ReLU()\n",
            "      (6): Conv2d(64, 128, kernel_size=(3, 3), stride=(2, 2), padding=(1, 1))\n",
            "    )\n",
            "  )\n",
            "  (quantize): Quantize(\n",
            "    (embedding_KxDIM_C): Embedding(100, 128)\n",
            "  )\n",
            "  (decoder): ConvDecoder(\n",
            "    (convs): Sequential(\n",
            "      (0): ReLU()\n",
            "      (1): ConvTranspose2d(128, 16, kernel_size=(4, 4), stride=(2, 2), padding=(1, 1))\n",
            "      (2): ReLU()\n",
            "      (3): ConvTranspose2d(16, 16, kernel_size=(4, 4), stride=(2, 2), padding=(1, 1))\n",
            "      (4): ReLU()\n",
            "      (5): ConvTranspose2d(16, 16, kernel_size=(4, 4), stride=(2, 2), padding=(1, 1))\n",
            "      (6): ReLU()\n",
            "      (7): ConvTranspose2d(16, 16, kernel_size=(1, 1), stride=(1, 1), padding=(2, 2))\n",
            "      (8): ReLU()\n",
            "      (9): Conv2d(16, 16, kernel_size=(1, 1), stride=(1, 1))\n",
            "      (10): ReLU()\n",
            "      (11): Conv2d(16, 1, kernel_size=(1, 1), stride=(1, 1))\n",
            "    )\n",
            "  )\n",
            ")\n",
            " epoch: 1 total_loss 0.44813941669135887 encoder_loss_z-e 0.1824045442014494 decoder_loss_mse 0.08333032741811194\n",
            " epoch: 2 total_loss 0.11655434115131696 encoder_loss_z-e 0.03565566613202294 decoder_loss_mse 0.04524300880357623\n",
            " epoch: 3 total_loss 0.09127297444442908 encoder_loss_z-e 0.026190639228994648 decoder_loss_mse 0.038891695923854906\n",
            " epoch: 4 total_loss 0.06783707569738229 encoder_loss_z-e 0.017125941864959894 decoder_loss_mse 0.03358519194747011\n",
            " epoch: 5 total_loss 0.055007147817810374 encoder_loss_z-e 0.012663857210303347 decoder_loss_mse 0.029679433396458624\n",
            " epoch: 6 total_loss 0.04707897550215324 encoder_loss_z-e 0.009974211598560214 decoder_loss_mse 0.027130552323410908\n",
            " epoch: 7 total_loss 0.04271658383955558 encoder_loss_z-e 0.008730815532493094 decoder_loss_mse 0.02525495276376605\n",
            " epoch: 8 total_loss 0.03890630847215652 encoder_loss_z-e 0.007556596237545212 decoder_loss_mse 0.023793115965401134\n",
            " epoch: 9 total_loss 0.03644310320690274 encoder_loss_z-e 0.006932722231217971 decoder_loss_mse 0.022577658729131023\n"
          ],
          "name": "stdout"
        }
      ]
    },
    {
      "cell_type": "code",
      "metadata": {
        "id": "lihB_j87Qe7q",
        "colab_type": "code",
        "outputId": "8b3a155c-794d-49c5-fe49-65d3172a1596",
        "colab": {
          "base_uri": "https://localhost:8080/",
          "height": 661
        }
      },
      "source": [
        "test(model, dataloader, device)"
      ],
      "execution_count": 81,
      "outputs": [
        {
          "output_type": "display_data",
          "data": {
            "image/png": "[encoded data removed]",
            "text/plain": [
              "<Figure size 576x432 with 8 Axes>"
            ]
          },
          "metadata": {
            "tags": [],
            "needs_background": "light"
          }
        },
        {
          "output_type": "display_data",
          "data": {
            "image/png": "[encoded data removed]",
            "text/plain": [
              "<Figure size 576x432 with 8 Axes>"
            ]
          },
          "metadata": {
            "tags": [],
            "needs_background": "light"
          }
        }
      ]
    }
  ]
}