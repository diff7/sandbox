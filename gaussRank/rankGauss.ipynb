{
 "cells": [
  {
   "cell_type": "code",
   "execution_count": 204,
   "metadata": {},
   "outputs": [],
   "source": [
    "import numpy as np\n",
    "import matplotlib.pyplot as plt\n",
    "from scipy.special import erfinv\n",
    "from scipy import stats\n",
    "\n",
    "\n",
    "from scipy.stats import rankdata\n",
    "import pandas as pd\n",
    "\n",
    "from utils import get_low_variance_objects"
   ]
  },
  {
   "cell_type": "code",
   "execution_count": 148,
   "metadata": {},
   "outputs": [],
   "source": [
    "from sklearn.linear_model import LogisticRegression, Ridge, Lasso"
   ]
  },
  {
   "cell_type": "code",
   "execution_count": 207,
   "metadata": {},
   "outputs": [],
   "source": [
    "class GRank:\n",
    "    def __init__(self):\n",
    "        self.half_range = 0.99\n",
    "        self.range = self.half_range*2\n",
    "        self.mapper = {}\n",
    "\n",
    "    def fit(self, X):\n",
    "        self.min = X.min() \n",
    "        self.max = X.max() \n",
    "        rank =  rankdata(X) \n",
    "        scale =  self.range/len(rank)\n",
    "        \n",
    "    def transform(self,X):\n",
    "        X = np.where(X <= self.min, self.min, X)\n",
    "        X = np.where(X >= self.max, self.max, X)\n",
    "        rank =  rankdata(X) \n",
    "        scale =  self.range/len(rank)\n",
    "        rank = rank*scale - self.half_range\n",
    "        return erfinv(rank)\n",
    "    \n",
    "class GpandasRanker:\n",
    "    def __init__(self):\n",
    "        self.rankers = {}\n",
    "\n",
    "    def fit(self, d_set, columns):\n",
    "        for col in columns:\n",
    "            X = d_set[col].values\n",
    "            ranker = GRank()\n",
    "            ranker.fit(X)\n",
    "            self.rankers[col] = ranker\n",
    "\n",
    "    def transform(self, d_set):\n",
    "        d_set = d_set.copy()\n",
    "        for col in self.rankers:\n",
    "            d_set[col] = self.rankers[col].transform(d_set[col].values)\n",
    "        return d_set"
   ]
  },
  {
   "cell_type": "code",
   "execution_count": 151,
   "metadata": {},
   "outputs": [],
   "source": [
    "class RealNormalizer:\n",
    "    def __init__(self):\n",
    "        self.mapper = dict()\n",
    "    \n",
    "    def fit_transform(self, data, columns_to_normalize):\n",
    "        for col in columns_to_normalize:\n",
    "            mean, std = data[col].mean(), data[col].std()\n",
    "            if std == 0: continue\n",
    "            self.mapper[col] = (mean, std)          \n",
    "            data[col] = ((data[col] - mean)/std).astype(float)\n",
    "        \n",
    "        return data\n",
    "    \n",
    "    def transform(self, data):\n",
    "        for col in self.mapper:\n",
    "            mean, std = self.mapper[col]\n",
    "            data[col] = ((data[col] - mean)/std).astype(float)\n",
    "        \n",
    "        return data"
   ]
  },
  {
   "cell_type": "code",
   "execution_count": 226,
   "metadata": {},
   "outputs": [],
   "source": [
    "import pandas as pd\n",
    "\n",
    "train = pd.read_csv('/home/dev/data_main/homesite/TRAIN.csv').sample(5000)\n",
    "val = pd.read_csv('/home/dev/data_main/homesite/VAL.csv').sample(5000)\n",
    "\n",
    "val.drop(['Unnamed: 0'], axis=1, inplace=True)\n",
    "train.drop(['Unnamed: 0'], axis=1, inplace=True)\n",
    "\n",
    "train.fillna(train.median(), inplace=True)\n",
    "val.fillna(train.median(), inplace=True)\n",
    "\n",
    "TARGET = 'TARGET'"
   ]
  },
  {
   "cell_type": "markdown",
   "metadata": {},
   "source": [
    "### GET CAT & REAL FEATURES"
   ]
  },
  {
   "cell_type": "code",
   "execution_count": 227,
   "metadata": {},
   "outputs": [
    {
     "name": "stdout",
     "output_type": "stream",
     "text": [
      "Low variance items all: 295, Objects all: 28\n",
      "Low variance objects: 27, High var objects: 1\n"
     ]
    }
   ],
   "source": [
    "low_var_objects, high_var_objects, low_var_real = get_low_variance_objects(train.drop(TARGET, axis=1), th=100)"
   ]
  },
  {
   "cell_type": "code",
   "execution_count": 228,
   "metadata": {},
   "outputs": [],
   "source": [
    "train.drop(list(low_var_objects) + list(high_var_objects), axis=1, inplace=True)\n",
    "val.drop(list(low_var_objects) + list(high_var_objects), axis=1, inplace=True)"
   ]
  },
  {
   "cell_type": "code",
   "execution_count": 229,
   "metadata": {},
   "outputs": [
    {
     "data": {
      "text/plain": [
       "0.7556724642962849"
      ]
     },
     "execution_count": 229,
     "metadata": {},
     "output_type": "execute_result"
    }
   ],
   "source": [
    "from sklearn.metrics import (roc_auc_score, \n",
    "                             accuracy_score)\n",
    "\n",
    "model = LogisticRegression(penalty ='l2',random_state = 0,solver = 'lbfgs',n_jobs = -1, C=1)\n",
    "\n",
    "model.fit(train.drop(TARGET, axis=1), train[TARGET])\n",
    "preds = model.predict_proba(val.drop(TARGET, axis=1))\n",
    "roc_auc_score(val[TARGET], preds[:,1])"
   ]
  },
  {
   "cell_type": "code",
   "execution_count": 230,
   "metadata": {},
   "outputs": [],
   "source": [
    "categoical = low_var_objects.union(low_var_real)\n",
    "low_var_n_objects = categoical.union(high_var_objects)\n",
    "real_features = list(set(train.columns).difference(low_var_n_objects))\n",
    "real_features.remove(TARGET)"
   ]
  },
  {
   "cell_type": "code",
   "execution_count": 231,
   "metadata": {},
   "outputs": [
    {
     "data": {
      "image/png": "[encoded data removed]",
      "text/plain": [
       "<Figure size 1440x360 with 2 Axes>"
      ]
     },
     "metadata": {
      "needs_background": "light"
     },
     "output_type": "display_data"
    }
   ],
   "source": [
    "fig, ax = plt.subplots(1, len(real_features[:4]), figsize=(20, 5))\n",
    "\n",
    "for i in range(len(real_features[:4])):\n",
    "    train[real_features[i]].plot(kind='hist', ax = ax[i])"
   ]
  },
  {
   "cell_type": "markdown",
   "metadata": {},
   "source": [
    "## GRank Transform"
   ]
  },
  {
   "cell_type": "code",
   "execution_count": 232,
   "metadata": {},
   "outputs": [],
   "source": [
    "g_pandas = GpandasRanker()\n",
    "g_pandas.fit(train, real_features)"
   ]
  },
  {
   "cell_type": "code",
   "execution_count": 233,
   "metadata": {},
   "outputs": [],
   "source": [
    "train_gr = g_pandas.transform(train)\n",
    "val_gr = g_pandas.transform(val)"
   ]
  },
  {
   "cell_type": "code",
   "execution_count": 234,
   "metadata": {},
   "outputs": [
    {
     "data": {
      "image/png": "[encoded data removed]",
      "text/plain": [
       "<Figure size 1440x360 with 2 Axes>"
      ]
     },
     "metadata": {
      "needs_background": "light"
     },
     "output_type": "display_data"
    }
   ],
   "source": [
    "fig, ax = plt.subplots(1, len(real_features), figsize=(20, 5))\n",
    "for i in range(len(real_features)):\n",
    "    train_gr[real_features[i]].plot(kind='hist', ax = ax[i])"
   ]
  },
  {
   "cell_type": "code",
   "execution_count": 212,
   "metadata": {},
   "outputs": [
    {
     "data": {
      "image/png": "[encoded data removed]",
      "text/plain": [
       "<Figure size 1440x360 with 3 Axes>"
      ]
     },
     "metadata": {
      "needs_background": "light"
     },
     "output_type": "display_data"
    }
   ],
   "source": [
    "fig, ax = plt.subplots(1, len(real_features), figsize=(20, 5))\n",
    "for i in range(len(real_features)):\n",
    "    val_gr[real_features[i]].plot(kind='hist', ax = ax[i])"
   ]
  },
  {
   "cell_type": "markdown",
   "metadata": {},
   "source": [
    "## GRank results"
   ]
  },
  {
   "cell_type": "code",
   "execution_count": 235,
   "metadata": {},
   "outputs": [
    {
     "data": {
      "text/plain": [
       "0.8725501916451358"
      ]
     },
     "execution_count": 235,
     "metadata": {},
     "output_type": "execute_result"
    }
   ],
   "source": [
    "from sklearn.metrics import (roc_auc_score, \n",
    "                             accuracy_score)\n",
    "\n",
    "model = LogisticRegression(penalty ='l2',random_state = 0,solver = 'lbfgs',n_jobs = -1, C=1)\n",
    "\n",
    "model.fit(train_gr.drop(TARGET, axis=1), train_gr[TARGET])\n",
    "preds = model.predict_proba(val_gr.drop(TARGET, axis=1))\n",
    "roc_auc_score(val_gr[TARGET], preds[:,1])"
   ]
  },
  {
   "cell_type": "markdown",
   "metadata": {},
   "source": [
    "### BOX COX"
   ]
  },
  {
   "cell_type": "code",
   "execution_count": 237,
   "metadata": {},
   "outputs": [],
   "source": [
    "normalizer = RealNormalizer()\n",
    "\n",
    "# box cox\n",
    "# transform training data & save lambda value\n",
    "#train[real_features[2]],fitted_lambda = stats.boxcox(train[real_features[2]]+1)\n",
    "# use lambda value to transform test data\n",
    "#val[real_features[2]] = stats.boxcox(val[real_features[2]]+1, fitted_lambda)\n",
    "\n",
    "#train[real_features[1]],fitted_lambda = stats.boxcox(train[real_features[1]]+1)\n",
    "#val[real_features[1]] = stats.boxcox(val[real_features[1]]+1, fitted_lambda)\n",
    " \n",
    "#SCORE if higher if do not do this transformation\n",
    "\n",
    "#transform training data & save lambda value\n",
    "train[real_features[0]],fitted_lambda = stats.boxcox(train[real_features[0]]+1)\n",
    "#use lambda value to transform test data\n",
    "val[real_features[0]] = stats.boxcox(val[real_features[0]]+1, fitted_lambda)\n",
    "\n",
    "# min max\n",
    "train = normalizer.fit_transform(train, real_features)\n",
    "val = normalizer.transform(val)"
   ]
  },
  {
   "cell_type": "code",
   "execution_count": 238,
   "metadata": {},
   "outputs": [
    {
     "data": {
      "text/plain": [
       "0.8720032736085847"
      ]
     },
     "execution_count": 238,
     "metadata": {},
     "output_type": "execute_result"
    }
   ],
   "source": [
    "model = LogisticRegression(penalty ='l2',random_state = 0,solver = 'lbfgs',n_jobs = -1, C=1)\n",
    "\n",
    "model.fit(train.drop(TARGET, axis=1), train[TARGET])\n",
    "preds = model.predict_proba(val.drop(TARGET, axis=1))\n",
    "roc_auc_score(val[TARGET], preds[:,1])"
   ]
  }
 ],
 "metadata": {
  "kernelspec": {
   "display_name": "Python 3",
   "language": "python",
   "name": "python3"
  },
  "language_info": {
   "codemirror_mode": {
    "name": "ipython",
    "version": 3
   },
   "file_extension": ".py",
   "mimetype": "text/x-python",
   "name": "python",
   "nbconvert_exporter": "python",
   "pygments_lexer": "ipython3",
   "version": "3.7.7"
  }
 },
 "nbformat": 4,
 "nbformat_minor": 4
}
